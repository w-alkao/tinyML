{
  "nbformat": 4,
  "nbformat_minor": 0,
  "metadata": {
    "colab": {
      "provenance": []
    },
    "kernelspec": {
      "name": "python3",
      "display_name": "Python 3"
    },
    "language_info": {
      "name": "python"
    }
  },
  "cells": [
    {
      "cell_type": "code",
      "execution_count": null,
      "metadata": {
        "id": "JABMl4mUf96x"
      },
      "outputs": [],
      "source": [
        "from google.colab import drive"
      ]
    },
    {
      "cell_type": "code",
      "source": [
        "drive.mount('/content/drive')"
      ],
      "metadata": {
        "colab": {
          "base_uri": "https://localhost:8080/"
        },
        "id": "PXz2HriakhNk",
        "outputId": "d4e9ec3c-3256-4cf8-b0c9-2753f9a67ca5"
      },
      "execution_count": null,
      "outputs": [
        {
          "output_type": "stream",
          "name": "stdout",
          "text": [
            "Drive already mounted at /content/drive; to attempt to forcibly remount, call drive.mount(\"/content/drive\", force_remount=True).\n"
          ]
        }
      ]
    },
    {
      "cell_type": "code",
      "source": [],
      "metadata": {
        "id": "gu6B2cRNkio3"
      },
      "execution_count": null,
      "outputs": []
    },
    {
      "cell_type": "code",
      "source": [],
      "metadata": {
        "id": "L-lpi7opkozA"
      },
      "execution_count": null,
      "outputs": []
    },
    {
      "cell_type": "code",
      "source": [],
      "metadata": {
        "id": "B502pU-bkoj9"
      },
      "execution_count": null,
      "outputs": []
    },
    {
      "cell_type": "code",
      "source": [],
      "metadata": {
        "id": "LZFuWy1SkoaA"
      },
      "execution_count": null,
      "outputs": []
    },
    {
      "cell_type": "markdown",
      "source": [
        "# **Import required Libraries**"
      ],
      "metadata": {
        "id": "dvqJ8EiYkp0T"
      }
    },
    {
      "cell_type": "code",
      "source": [
        "! pip install -q tensorflow-model-optimization"
      ],
      "metadata": {
        "id": "hJDViPXSksis"
      },
      "execution_count": null,
      "outputs": []
    },
    {
      "cell_type": "code",
      "source": [
        "import matplotlib.pyplot as plt\n",
        "import numpy as np\n",
        "import pandas as pd\n",
        "import tensorflow as tf\n",
        "import seaborn as sns\n",
        "from sklearn.metrics import confusion_matrix\n",
        "from sklearn.metrics import ConfusionMatrixDisplay\n",
        "from sklearn.metrics import precision_score, recall_score, f1_score\n",
        "import tensorflow_model_optimization as tfmot\n",
        "from tensorflow_model_optimization.python.core.keras.compat import keras"
      ],
      "metadata": {
        "id": "Jwqkp_YHkuRt"
      },
      "execution_count": null,
      "outputs": []
    },
    {
      "cell_type": "code",
      "source": [],
      "metadata": {
        "id": "HjiMLar2kyUD"
      },
      "execution_count": null,
      "outputs": []
    },
    {
      "cell_type": "code",
      "source": [],
      "metadata": {
        "id": "dMUIf_2lk1de"
      },
      "execution_count": null,
      "outputs": []
    },
    {
      "cell_type": "code",
      "source": [],
      "metadata": {
        "id": "7l-mnBCpk1KD"
      },
      "execution_count": null,
      "outputs": []
    },
    {
      "cell_type": "markdown",
      "source": [
        "# **Load data**"
      ],
      "metadata": {
        "id": "NTKSLDVok3CS"
      }
    },
    {
      "cell_type": "code",
      "source": [
        "batch_size = 64\n",
        "img_height = 224\n",
        "img_width = 224\n",
        "\n",
        "data_dir = \"/content/drive/MyDrive/New Folder/TinyML/Datasets/Tomatoes Diseases/\""
      ],
      "metadata": {
        "id": "T5L9PiU9k4xq"
      },
      "execution_count": null,
      "outputs": []
    },
    {
      "cell_type": "code",
      "source": [
        "train_ds = keras.utils.image_dataset_from_directory(\n",
        "    data_dir + \"Train\",\n",
        "    validation_split=0.2,\n",
        "    subset=\"training\",\n",
        "    seed=368,\n",
        "    image_size=(img_height, img_width),\n",
        "    batch_size=batch_size,\n",
        "    shuffle=True,\n",
        ")"
      ],
      "metadata": {
        "colab": {
          "base_uri": "https://localhost:8080/"
        },
        "id": "qJ6vhA6vlSpE",
        "outputId": "b46b0560-a32b-48d5-e1e2-b438bba0239d"
      },
      "execution_count": null,
      "outputs": [
        {
          "output_type": "stream",
          "name": "stdout",
          "text": [
            "Found 12860 files belonging to 10 classes.\n",
            "Using 10288 files for training.\n"
          ]
        }
      ]
    },
    {
      "cell_type": "code",
      "source": [
        "val_ds = keras.utils.image_dataset_from_directory(\n",
        "    data_dir + \"Train\",\n",
        "    validation_split=0.2,\n",
        "    subset=\"validation\",\n",
        "    seed=368,\n",
        "    image_size=(img_height, img_width),\n",
        "    batch_size=batch_size,\n",
        "    shuffle=True,\n",
        ")"
      ],
      "metadata": {
        "colab": {
          "base_uri": "https://localhost:8080/"
        },
        "id": "y9pOxdtXlbRT",
        "outputId": "fc28b4aa-e417-47f8-8093-e35b1a111625"
      },
      "execution_count": null,
      "outputs": [
        {
          "output_type": "stream",
          "name": "stdout",
          "text": [
            "Found 12860 files belonging to 10 classes.\n",
            "Using 2572 files for validation.\n"
          ]
        }
      ]
    },
    {
      "cell_type": "code",
      "source": [
        "class_names = train_ds.class_names\n",
        "class_names"
      ],
      "metadata": {
        "colab": {
          "base_uri": "https://localhost:8080/"
        },
        "id": "kWC5bHBBldfH",
        "outputId": "41066c96-65be-4578-fe9f-6dbdb5689e20"
      },
      "execution_count": null,
      "outputs": [
        {
          "output_type": "execute_result",
          "data": {
            "text/plain": [
              "['Bacterial_spot',\n",
              " 'Early_blight',\n",
              " 'Late_blight',\n",
              " 'Leaf_Mold',\n",
              " 'Septoria_leaf_spot',\n",
              " 'Spider_mite_Two_spotted_sm',\n",
              " 'Target_Spot',\n",
              " 'Yellow_Leaf__Curl_Virus',\n",
              " 'healthy',\n",
              " 'mosaic_virus']"
            ]
          },
          "metadata": {},
          "execution_count": 19
        }
      ]
    },
    {
      "cell_type": "code",
      "source": [],
      "metadata": {
        "id": "0oalfDOSlleo"
      },
      "execution_count": null,
      "outputs": []
    },
    {
      "cell_type": "code",
      "source": [],
      "metadata": {
        "id": "LFbhVz0ilnJ8"
      },
      "execution_count": null,
      "outputs": []
    },
    {
      "cell_type": "code",
      "source": [],
      "metadata": {
        "id": "Uj4gvpmTlm37"
      },
      "execution_count": null,
      "outputs": []
    },
    {
      "cell_type": "markdown",
      "source": [
        "# **Visualize the data**"
      ],
      "metadata": {
        "id": "VjN9AKaKloWI"
      }
    },
    {
      "cell_type": "code",
      "source": [
        "plt.figure(figsize=(15, 15))\n",
        "for img, lab in train_ds.take(1):\n",
        "  for i in range(16):\n",
        "    ax = plt.subplot(4, 4, i + 1)\n",
        "    plt.imshow(img[i].numpy().astype(\"uint8\"))\n",
        "    plt.title(class_names[lab[i]])\n",
        "    plt.axis(\"off\")"
      ],
      "metadata": {
        "colab": {
          "base_uri": "https://localhost:8080/",
          "height": 777
        },
        "id": "5Zg0m83glqK_",
        "outputId": "dcb3f71a-fa00-4c8d-f2aa-bee7a7fe4289"
      },
      "execution_count": null,
      "outputs": []
    },
    {
      "cell_type": "code",
      "source": [],
      "metadata": {
        "id": "voWMgoxilwh-"
      },
      "execution_count": null,
      "outputs": []
    },
    {
      "cell_type": "code",
      "source": [],
      "metadata": {
        "id": "wkxwvUsXl0z7"
      },
      "execution_count": null,
      "outputs": []
    },
    {
      "cell_type": "code",
      "source": [],
      "metadata": {
        "id": "Aize2-uQl0mA"
      },
      "execution_count": null,
      "outputs": []
    },
    {
      "cell_type": "markdown",
      "source": [
        "# **Preprocess the data**"
      ],
      "metadata": {
        "id": "GK8froCul8s9"
      }
    },
    {
      "cell_type": "code",
      "source": [
        "# set 8000 images for training and 1024 images for validation\n",
        "train_nds = train_ds.take(125)\n",
        "val_nds = val_ds.take(16)"
      ],
      "metadata": {
        "id": "lmzRL5AXl-Df"
      },
      "execution_count": null,
      "outputs": []
    },
    {
      "cell_type": "code",
      "source": [
        "# Configure the dataset for performance\n",
        "\n",
        "AUTOTUNE = tf.data.AUTOTUNE\n",
        "\n",
        "train_nds = train_nds.cache().prefetch(buffer_size=AUTOTUNE)\n",
        "val_nds = val_nds.cache().prefetch(buffer_size=AUTOTUNE)"
      ],
      "metadata": {
        "id": "9S9ZxJkGmB4p"
      },
      "execution_count": null,
      "outputs": []
    },
    {
      "cell_type": "code",
      "source": [],
      "metadata": {
        "id": "5Z3Aj1tpmD6T"
      },
      "execution_count": null,
      "outputs": []
    },
    {
      "cell_type": "code",
      "source": [],
      "metadata": {
        "id": "S4CUPvwAmOtQ"
      },
      "execution_count": null,
      "outputs": []
    },
    {
      "cell_type": "code",
      "source": [],
      "metadata": {
        "id": "mVR-h3BHmOeg"
      },
      "execution_count": null,
      "outputs": []
    },
    {
      "cell_type": "markdown",
      "source": [
        "# **Load Model**"
      ],
      "metadata": {
        "id": "cVTKK7hKmRfX"
      }
    },
    {
      "cell_type": "code",
      "source": [
        "AlexNet = keras.models.load_model(\"/content/drive/MyDrive/New Folder/TinyML/SaveModels/AlexNet.h5\")"
      ],
      "metadata": {
        "colab": {
          "base_uri": "https://localhost:8080/"
        },
        "id": "Mc1LNeoLmXAk",
        "outputId": "6648d581-dfee-4506-9cea-473f217a7904"
      },
      "execution_count": null,
      "outputs": [
        {
          "output_type": "stream",
          "name": "stderr",
          "text": [
            "WARNING:tensorflow:No training configuration found in the save file, so the model was *not* compiled. Compile it manually.\n"
          ]
        }
      ]
    },
    {
      "cell_type": "code",
      "source": [
        "AlexNet.summary()"
      ],
      "metadata": {
        "colab": {
          "base_uri": "https://localhost:8080/"
        },
        "id": "qkaq-r1PnUEC",
        "outputId": "abe82584-796b-48fe-9754-be1cd39301f2"
      },
      "execution_count": null,
      "outputs": [
        {
          "output_type": "stream",
          "name": "stdout",
          "text": [
            "Model: \"sequential_1\"\n",
            "_________________________________________________________________\n",
            " Layer (type)                Output Shape              Param #   \n",
            "=================================================================\n",
            " rescaling_1 (Rescaling)     (None, 224, 224, 3)       0         \n",
            "                                                                 \n",
            " conv2d_5 (Conv2D)           (None, 54, 54, 96)        34944     \n",
            "                                                                 \n",
            " batch_normalization_5 (Bat  (None, 54, 54, 96)        384       \n",
            " chNormalization)                                                \n",
            "                                                                 \n",
            " max_pooling2d_3 (MaxPoolin  (None, 26, 26, 96)        0         \n",
            " g2D)                                                            \n",
            "                                                                 \n",
            " conv2d_6 (Conv2D)           (None, 26, 26, 256)       614656    \n",
            "                                                                 \n",
            " batch_normalization_6 (Bat  (None, 26, 26, 256)       1024      \n",
            " chNormalization)                                                \n",
            "                                                                 \n",
            " max_pooling2d_4 (MaxPoolin  (None, 12, 12, 256)       0         \n",
            " g2D)                                                            \n",
            "                                                                 \n",
            " conv2d_7 (Conv2D)           (None, 12, 12, 384)       885120    \n",
            "                                                                 \n",
            " batch_normalization_7 (Bat  (None, 12, 12, 384)       1536      \n",
            " chNormalization)                                                \n",
            "                                                                 \n",
            " conv2d_8 (Conv2D)           (None, 12, 12, 384)       1327488   \n",
            "                                                                 \n",
            " batch_normalization_8 (Bat  (None, 12, 12, 384)       1536      \n",
            " chNormalization)                                                \n",
            "                                                                 \n",
            " conv2d_9 (Conv2D)           (None, 12, 12, 256)       884992    \n",
            "                                                                 \n",
            " batch_normalization_9 (Bat  (None, 12, 12, 256)       1024      \n",
            " chNormalization)                                                \n",
            "                                                                 \n",
            " max_pooling2d_5 (MaxPoolin  (None, 5, 5, 256)         0         \n",
            " g2D)                                                            \n",
            "                                                                 \n",
            " flatten_1 (Flatten)         (None, 6400)              0         \n",
            "                                                                 \n",
            " dense_3 (Dense)             (None, 4096)              26218496  \n",
            "                                                                 \n",
            " dropout_2 (Dropout)         (None, 4096)              0         \n",
            "                                                                 \n",
            " dense_4 (Dense)             (None, 4096)              16781312  \n",
            "                                                                 \n",
            " dropout_3 (Dropout)         (None, 4096)              0         \n",
            "                                                                 \n",
            " dense_5 (Dense)             (None, 10)                40970     \n",
            "                                                                 \n",
            "=================================================================\n",
            "Total params: 46793482 (178.50 MB)\n",
            "Trainable params: 46790730 (178.49 MB)\n",
            "Non-trainable params: 2752 (10.75 KB)\n",
            "_________________________________________________________________\n"
          ]
        }
      ]
    },
    {
      "cell_type": "code",
      "source": [],
      "metadata": {
        "id": "Ny8GC3qqnd53"
      },
      "execution_count": null,
      "outputs": []
    },
    {
      "cell_type": "code",
      "source": [],
      "metadata": {
        "id": "VTlw8gbDnpXg"
      },
      "execution_count": null,
      "outputs": []
    },
    {
      "cell_type": "code",
      "source": [],
      "metadata": {
        "id": "0wkbsU8NnpLa"
      },
      "execution_count": null,
      "outputs": []
    },
    {
      "cell_type": "markdown",
      "source": [
        "# **Pruning**"
      ],
      "metadata": {
        "id": "ScEH_8H2nr1U"
      }
    },
    {
      "cell_type": "code",
      "source": [
        "num_images = 8000\n",
        "end_step = np.ceil(num_images / batch_size).astype(np.int32) * 200\n",
        "\n",
        "\n",
        "callbacks = [tfmot.sparsity.keras.UpdatePruningStep()]\n",
        "\n",
        "conv_pruning = {\n",
        "    \"pruning_schedule\": tfmot.sparsity.keras.PolynomialDecay(\n",
        "        initial_sparsity=0.20,\n",
        "        final_sparsity=0.98,\n",
        "        begin_step=0,\n",
        "        end_step=end_step,)\n",
        "}\n",
        "\n",
        "\n",
        "dense_pruning = {\n",
        "    \"pruning_schedule\": tfmot.sparsity.keras.PolynomialDecay(\n",
        "        initial_sparsity=0.20,\n",
        "        final_sparsity=0.99,\n",
        "        begin_step=0,\n",
        "        end_step=end_step,)\n",
        "}\n",
        "\n",
        "\n",
        "def pruning(layer):\n",
        "  if isinstance(layer, keras.layers.Conv2D):\n",
        "    return tfmot.sparsity.keras.prune_low_magnitude(layer, **conv_pruning)\n",
        "  if isinstance(layer, keras.layers.Dense):\n",
        "    return tfmot.sparsity.keras.prune_low_magnitude(layer, **dense_pruning)\n",
        "  return layer"
      ],
      "metadata": {
        "id": "x7_HnT8HnuZY"
      },
      "execution_count": null,
      "outputs": []
    },
    {
      "cell_type": "code",
      "source": [],
      "metadata": {
        "id": "yh9aOY0TojJa"
      },
      "execution_count": null,
      "outputs": []
    },
    {
      "cell_type": "code",
      "source": [],
      "metadata": {
        "id": "71TecUkeoq3P"
      },
      "execution_count": null,
      "outputs": []
    },
    {
      "cell_type": "code",
      "source": [],
      "metadata": {
        "id": "TEPtjOB1oqtG"
      },
      "execution_count": null,
      "outputs": []
    },
    {
      "cell_type": "markdown",
      "source": [
        "# **Compile and train the model**"
      ],
      "metadata": {
        "id": "KgCbgr5aorVl"
      }
    },
    {
      "cell_type": "code",
      "source": [
        "pruned_AlexNet = keras.models.clone_model(\n",
        "    AlexNet,\n",
        "    clone_function=pruning,\n",
        ")\n",
        "\n",
        "pruned_AlexNet.compile(\n",
        "  loss=keras.losses.SparseCategoricalCrossentropy(from_logits=True),\n",
        "  optimizer=keras.optimizers.Adam(learning_rate=1e-5),\n",
        "  metrics=['accuracy']\n",
        ")\n",
        "\n",
        "pruned_AlexNet.summary()"
      ],
      "metadata": {
        "colab": {
          "base_uri": "https://localhost:8080/"
        },
        "id": "SV40mcahotVu",
        "outputId": "ecb0022b-5ad1-42ea-b669-a2b65bc0cab8"
      },
      "execution_count": null,
      "outputs": [
        {
          "output_type": "stream",
          "name": "stdout",
          "text": [
            "Model: \"sequential_1\"\n",
            "_________________________________________________________________\n",
            " Layer (type)                Output Shape              Param #   \n",
            "=================================================================\n",
            " rescaling_1 (Rescaling)     (None, 224, 224, 3)       0         \n",
            "                                                                 \n",
            " prune_low_magnitude_conv2d  (None, 54, 54, 96)        69794     \n",
            " _5 (PruneLowMagnitude)                                          \n",
            "                                                                 \n",
            " batch_normalization_5 (Bat  (None, 54, 54, 96)        384       \n",
            " chNormalization)                                                \n",
            "                                                                 \n",
            " max_pooling2d_3 (MaxPoolin  (None, 26, 26, 96)        0         \n",
            " g2D)                                                            \n",
            "                                                                 \n",
            " prune_low_magnitude_conv2d  (None, 26, 26, 256)       1229058   \n",
            " _6 (PruneLowMagnitude)                                          \n",
            "                                                                 \n",
            " batch_normalization_6 (Bat  (None, 26, 26, 256)       1024      \n",
            " chNormalization)                                                \n",
            "                                                                 \n",
            " max_pooling2d_4 (MaxPoolin  (None, 12, 12, 256)       0         \n",
            " g2D)                                                            \n",
            "                                                                 \n",
            " prune_low_magnitude_conv2d  (None, 12, 12, 384)       1769858   \n",
            " _7 (PruneLowMagnitude)                                          \n",
            "                                                                 \n",
            " batch_normalization_7 (Bat  (None, 12, 12, 384)       1536      \n",
            " chNormalization)                                                \n",
            "                                                                 \n",
            " prune_low_magnitude_conv2d  (None, 12, 12, 384)       2654594   \n",
            " _8 (PruneLowMagnitude)                                          \n",
            "                                                                 \n",
            " batch_normalization_8 (Bat  (None, 12, 12, 384)       1536      \n",
            " chNormalization)                                                \n",
            "                                                                 \n",
            " prune_low_magnitude_conv2d  (None, 12, 12, 256)       1769730   \n",
            " _9 (PruneLowMagnitude)                                          \n",
            "                                                                 \n",
            " batch_normalization_9 (Bat  (None, 12, 12, 256)       1024      \n",
            " chNormalization)                                                \n",
            "                                                                 \n",
            " max_pooling2d_5 (MaxPoolin  (None, 5, 5, 256)         0         \n",
            " g2D)                                                            \n",
            "                                                                 \n",
            " flatten_1 (Flatten)         (None, 6400)              0         \n",
            "                                                                 \n",
            " prune_low_magnitude_dense_  (None, 4096)              52432898  \n",
            " 3 (PruneLowMagnitude)                                           \n",
            "                                                                 \n",
            " dropout_2 (Dropout)         (None, 4096)              0         \n",
            "                                                                 \n",
            " prune_low_magnitude_dense_  (None, 4096)              33558530  \n",
            " 4 (PruneLowMagnitude)                                           \n",
            "                                                                 \n",
            " dropout_3 (Dropout)         (None, 4096)              0         \n",
            "                                                                 \n",
            " prune_low_magnitude_dense_  (None, 10)                81932     \n",
            " 5 (PruneLowMagnitude)                                           \n",
            "                                                                 \n",
            "=================================================================\n",
            "Total params: 93571898 (356.95 MB)\n",
            "Trainable params: 46790730 (178.49 MB)\n",
            "Non-trainable params: 46781168 (178.46 MB)\n",
            "_________________________________________________________________\n"
          ]
        }
      ]
    },
    {
      "cell_type": "code",
      "source": [],
      "metadata": {
        "id": "Nin9HKkTpeYn"
      },
      "execution_count": null,
      "outputs": []
    },
    {
      "cell_type": "code",
      "source": [],
      "metadata": {
        "id": "h957kwgIpiI7"
      },
      "execution_count": null,
      "outputs": []
    },
    {
      "cell_type": "code",
      "source": [
        "history = pruned_AlexNet.fit(\n",
        "    train_nds,\n",
        "    validation_data=val_nds,\n",
        "    epochs=200,\n",
        "    callbacks=callbacks,\n",
        ")"
      ],
      "metadata": {
        "colab": {
          "base_uri": "https://localhost:8080/"
        },
        "id": "nzaQEXHLpiCx",
        "outputId": "5a6f8d2b-a01d-43a2-af8d-d74050082f60"
      },
      "execution_count": 27,
      "outputs": [
        {
          "metadata": {
            "tags": null
          },
          "name": "stdout",
          "output_type": "stream",
          "text": [
            "Epoch 1/200\n"
          ]
        },
        {
          "metadata": {
            "tags": null
          },
          "name": "stderr",
          "output_type": "stream",
          "text": [
            "/usr/local/lib/python3.10/dist-packages/tf_keras/src/backend.py:5729: UserWarning: \"`sparse_categorical_crossentropy` received `from_logits=True`, but the `output` argument was produced by a Softmax activation and thus does not represent logits. Was this intended?\n",
            "  output, from_logits = _get_logits(\n"
          ]
        },
        {
          "output_type": "stream",
          "name": "stdout",
          "text": [
            "125/125 [==============================] - 3151s 25s/step - loss: 0.2607 - accuracy: 0.9423 - val_loss: 0.3003 - val_accuracy: 0.9258\n",
            "Epoch 2/200\n",
            "125/125 [==============================] - 10s 78ms/step - loss: 0.2083 - accuracy: 0.9427 - val_loss: 0.1367 - val_accuracy: 0.9668\n",
            "Epoch 3/200\n",
            "125/125 [==============================] - 10s 78ms/step - loss: 0.1708 - accuracy: 0.9491 - val_loss: 0.1424 - val_accuracy: 0.9619\n",
            "Epoch 4/200\n",
            "125/125 [==============================] - 10s 78ms/step - loss: 0.1554 - accuracy: 0.9528 - val_loss: 0.1705 - val_accuracy: 0.9541\n",
            "Epoch 5/200\n",
            "125/125 [==============================] - 10s 79ms/step - loss: 0.1491 - accuracy: 0.9525 - val_loss: 0.1351 - val_accuracy: 0.9609\n",
            "Epoch 6/200\n",
            "125/125 [==============================] - 10s 79ms/step - loss: 0.1239 - accuracy: 0.9616 - val_loss: 0.1250 - val_accuracy: 0.9639\n",
            "Epoch 7/200\n",
            "125/125 [==============================] - 10s 78ms/step - loss: 0.1122 - accuracy: 0.9631 - val_loss: 0.1257 - val_accuracy: 0.9678\n",
            "Epoch 8/200\n",
            "125/125 [==============================] - 10s 77ms/step - loss: 0.1113 - accuracy: 0.9671 - val_loss: 0.1265 - val_accuracy: 0.9609\n",
            "Epoch 9/200\n",
            "125/125 [==============================] - 10s 79ms/step - loss: 0.1128 - accuracy: 0.9641 - val_loss: 0.1448 - val_accuracy: 0.9639\n",
            "Epoch 10/200\n",
            "125/125 [==============================] - 10s 79ms/step - loss: 0.1086 - accuracy: 0.9651 - val_loss: 0.1176 - val_accuracy: 0.9668\n",
            "Epoch 11/200\n",
            "125/125 [==============================] - 10s 79ms/step - loss: 0.1155 - accuracy: 0.9625 - val_loss: 0.1162 - val_accuracy: 0.9668\n",
            "Epoch 12/200\n",
            "125/125 [==============================] - 10s 79ms/step - loss: 0.0937 - accuracy: 0.9682 - val_loss: 0.1275 - val_accuracy: 0.9619\n",
            "Epoch 13/200\n",
            "125/125 [==============================] - 10s 79ms/step - loss: 0.1007 - accuracy: 0.9650 - val_loss: 0.1215 - val_accuracy: 0.9629\n",
            "Epoch 14/200\n",
            "125/125 [==============================] - 10s 81ms/step - loss: 0.0890 - accuracy: 0.9693 - val_loss: 0.1146 - val_accuracy: 0.9678\n",
            "Epoch 15/200\n",
            "125/125 [==============================] - 10s 79ms/step - loss: 0.0885 - accuracy: 0.9695 - val_loss: 0.1278 - val_accuracy: 0.9658\n",
            "Epoch 16/200\n",
            "125/125 [==============================] - 10s 80ms/step - loss: 0.1036 - accuracy: 0.9650 - val_loss: 0.1688 - val_accuracy: 0.9541\n",
            "Epoch 17/200\n",
            "125/125 [==============================] - 10s 79ms/step - loss: 0.1063 - accuracy: 0.9636 - val_loss: 0.1593 - val_accuracy: 0.9512\n",
            "Epoch 18/200\n",
            "125/125 [==============================] - 10s 79ms/step - loss: 0.0964 - accuracy: 0.9657 - val_loss: 0.1407 - val_accuracy: 0.9619\n",
            "Epoch 19/200\n",
            "125/125 [==============================] - 10s 78ms/step - loss: 0.1031 - accuracy: 0.9655 - val_loss: 0.1465 - val_accuracy: 0.9580\n",
            "Epoch 20/200\n",
            "125/125 [==============================] - 10s 79ms/step - loss: 0.0962 - accuracy: 0.9670 - val_loss: 0.2176 - val_accuracy: 0.9414\n",
            "Epoch 21/200\n",
            "125/125 [==============================] - 10s 79ms/step - loss: 0.1080 - accuracy: 0.9636 - val_loss: 0.3094 - val_accuracy: 0.9180\n",
            "Epoch 22/200\n",
            "125/125 [==============================] - 10s 78ms/step - loss: 0.1119 - accuracy: 0.9610 - val_loss: 0.2030 - val_accuracy: 0.9336\n",
            "Epoch 23/200\n",
            "125/125 [==============================] - 10s 79ms/step - loss: 0.1150 - accuracy: 0.9604 - val_loss: 0.1356 - val_accuracy: 0.9619\n",
            "Epoch 24/200\n",
            "125/125 [==============================] - 10s 80ms/step - loss: 0.0982 - accuracy: 0.9665 - val_loss: 0.3725 - val_accuracy: 0.9033\n",
            "Epoch 25/200\n",
            "125/125 [==============================] - 10s 82ms/step - loss: 0.1105 - accuracy: 0.9620 - val_loss: 0.1750 - val_accuracy: 0.9443\n",
            "Epoch 26/200\n",
            "125/125 [==============================] - 10s 78ms/step - loss: 0.1083 - accuracy: 0.9657 - val_loss: 0.1745 - val_accuracy: 0.9512\n",
            "Epoch 27/200\n",
            "125/125 [==============================] - 10s 80ms/step - loss: 0.1050 - accuracy: 0.9649 - val_loss: 0.1510 - val_accuracy: 0.9502\n",
            "Epoch 28/200\n",
            "125/125 [==============================] - 10s 79ms/step - loss: 0.1017 - accuracy: 0.9644 - val_loss: 0.2374 - val_accuracy: 0.9131\n",
            "Epoch 29/200\n",
            "125/125 [==============================] - 10s 80ms/step - loss: 0.1303 - accuracy: 0.9536 - val_loss: 0.3190 - val_accuracy: 0.9092\n",
            "Epoch 30/200\n",
            "125/125 [==============================] - 10s 77ms/step - loss: 0.1122 - accuracy: 0.9613 - val_loss: 0.1615 - val_accuracy: 0.9482\n",
            "Epoch 31/200\n",
            "125/125 [==============================] - 10s 79ms/step - loss: 0.1233 - accuracy: 0.9582 - val_loss: 0.1268 - val_accuracy: 0.9619\n",
            "Epoch 32/200\n",
            "125/125 [==============================] - 10s 79ms/step - loss: 0.1190 - accuracy: 0.9572 - val_loss: 0.3760 - val_accuracy: 0.9072\n",
            "Epoch 33/200\n",
            "125/125 [==============================] - 10s 79ms/step - loss: 0.1182 - accuracy: 0.9591 - val_loss: 0.2544 - val_accuracy: 0.9238\n",
            "Epoch 34/200\n",
            "125/125 [==============================] - 10s 78ms/step - loss: 0.1180 - accuracy: 0.9600 - val_loss: 0.2101 - val_accuracy: 0.9336\n",
            "Epoch 35/200\n",
            "125/125 [==============================] - 10s 79ms/step - loss: 0.1117 - accuracy: 0.9622 - val_loss: 0.2086 - val_accuracy: 0.9414\n",
            "Epoch 36/200\n",
            "125/125 [==============================] - 10s 79ms/step - loss: 0.1227 - accuracy: 0.9597 - val_loss: 1.8216 - val_accuracy: 0.6973\n",
            "Epoch 37/200\n",
            "125/125 [==============================] - 10s 77ms/step - loss: 0.1524 - accuracy: 0.9496 - val_loss: 0.5357 - val_accuracy: 0.8613\n",
            "Epoch 38/200\n",
            "125/125 [==============================] - 10s 79ms/step - loss: 0.1310 - accuracy: 0.9556 - val_loss: 0.2215 - val_accuracy: 0.9346\n",
            "Epoch 39/200\n",
            "125/125 [==============================] - 10s 79ms/step - loss: 0.1398 - accuracy: 0.9525 - val_loss: 0.1889 - val_accuracy: 0.9414\n",
            "Epoch 40/200\n",
            "125/125 [==============================] - 10s 80ms/step - loss: 0.1467 - accuracy: 0.9480 - val_loss: 0.8567 - val_accuracy: 0.7988\n",
            "Epoch 41/200\n",
            "125/125 [==============================] - 10s 77ms/step - loss: 0.1899 - accuracy: 0.9395 - val_loss: 0.3882 - val_accuracy: 0.8779\n",
            "Epoch 42/200\n",
            "125/125 [==============================] - 10s 79ms/step - loss: 0.1706 - accuracy: 0.9435 - val_loss: 0.2354 - val_accuracy: 0.9248\n",
            "Epoch 43/200\n",
            "125/125 [==============================] - 10s 79ms/step - loss: 0.1996 - accuracy: 0.9376 - val_loss: 0.1716 - val_accuracy: 0.9385\n",
            "Epoch 44/200\n",
            "125/125 [==============================] - 10s 80ms/step - loss: 0.1867 - accuracy: 0.9413 - val_loss: 0.7041 - val_accuracy: 0.8164\n",
            "Epoch 45/200\n",
            "125/125 [==============================] - 10s 78ms/step - loss: 0.2246 - accuracy: 0.9296 - val_loss: 0.4068 - val_accuracy: 0.8750\n",
            "Epoch 46/200\n",
            "125/125 [==============================] - 10s 80ms/step - loss: 0.2124 - accuracy: 0.9320 - val_loss: 0.4181 - val_accuracy: 0.8525\n",
            "Epoch 47/200\n",
            "125/125 [==============================] - 10s 79ms/step - loss: 0.2263 - accuracy: 0.9286 - val_loss: 0.1954 - val_accuracy: 0.9375\n",
            "Epoch 48/200\n",
            "125/125 [==============================] - 10s 79ms/step - loss: 0.2350 - accuracy: 0.9279 - val_loss: 1.9071 - val_accuracy: 0.6182\n",
            "Epoch 49/200\n",
            "125/125 [==============================] - 10s 78ms/step - loss: 0.2989 - accuracy: 0.9087 - val_loss: 0.8266 - val_accuracy: 0.7754\n",
            "Epoch 50/200\n",
            "125/125 [==============================] - 10s 79ms/step - loss: 0.2639 - accuracy: 0.9103 - val_loss: 0.2288 - val_accuracy: 0.9277\n",
            "Epoch 51/200\n",
            "125/125 [==============================] - 10s 79ms/step - loss: 0.2517 - accuracy: 0.9200 - val_loss: 0.2038 - val_accuracy: 0.9395\n",
            "Epoch 52/200\n",
            "125/125 [==============================] - 10s 80ms/step - loss: 0.2645 - accuracy: 0.9146 - val_loss: 1.8942 - val_accuracy: 0.6777\n",
            "Epoch 53/200\n",
            "125/125 [==============================] - 10s 78ms/step - loss: 0.3374 - accuracy: 0.8904 - val_loss: 0.6100 - val_accuracy: 0.8262\n",
            "Epoch 54/200\n",
            "125/125 [==============================] - 10s 79ms/step - loss: 0.3003 - accuracy: 0.9121 - val_loss: 0.2589 - val_accuracy: 0.9180\n",
            "Epoch 55/200\n",
            "125/125 [==============================] - 10s 79ms/step - loss: 0.2851 - accuracy: 0.9089 - val_loss: 0.2123 - val_accuracy: 0.9375\n",
            "Epoch 56/200\n",
            "125/125 [==============================] - 10s 80ms/step - loss: 0.2959 - accuracy: 0.9055 - val_loss: 1.4020 - val_accuracy: 0.6973\n",
            "Epoch 57/200\n",
            "125/125 [==============================] - 10s 78ms/step - loss: 0.3833 - accuracy: 0.8740 - val_loss: 0.4960 - val_accuracy: 0.8389\n",
            "Epoch 58/200\n",
            "125/125 [==============================] - 10s 79ms/step - loss: 0.3272 - accuracy: 0.8915 - val_loss: 0.3091 - val_accuracy: 0.8936\n",
            "Epoch 59/200\n",
            "125/125 [==============================] - 10s 79ms/step - loss: 0.3095 - accuracy: 0.8994 - val_loss: 0.2225 - val_accuracy: 0.9258\n",
            "Epoch 60/200\n",
            "125/125 [==============================] - 10s 78ms/step - loss: 0.3302 - accuracy: 0.8967 - val_loss: 3.6459 - val_accuracy: 0.5381\n",
            "Epoch 61/200\n",
            "125/125 [==============================] - 10s 79ms/step - loss: 0.4448 - accuracy: 0.8666 - val_loss: 0.7334 - val_accuracy: 0.7656\n",
            "Epoch 62/200\n",
            "125/125 [==============================] - 10s 79ms/step - loss: 0.3203 - accuracy: 0.8939 - val_loss: 0.3609 - val_accuracy: 0.8857\n",
            "Epoch 63/200\n",
            "125/125 [==============================] - 10s 79ms/step - loss: 0.2928 - accuracy: 0.9028 - val_loss: 0.2334 - val_accuracy: 0.9268\n",
            "Epoch 64/200\n",
            "125/125 [==============================] - 10s 79ms/step - loss: 0.2679 - accuracy: 0.9103 - val_loss: 1.6569 - val_accuracy: 0.6699\n",
            "Epoch 65/200\n",
            "125/125 [==============================] - 10s 79ms/step - loss: 0.3444 - accuracy: 0.8844 - val_loss: 0.6605 - val_accuracy: 0.7754\n",
            "Epoch 66/200\n",
            "125/125 [==============================] - 10s 79ms/step - loss: 0.3374 - accuracy: 0.8919 - val_loss: 0.2923 - val_accuracy: 0.9004\n",
            "Epoch 67/200\n",
            "125/125 [==============================] - 10s 78ms/step - loss: 0.3153 - accuracy: 0.8966 - val_loss: 0.2691 - val_accuracy: 0.9189\n",
            "Epoch 68/200\n",
            "125/125 [==============================] - 10s 78ms/step - loss: 0.2801 - accuracy: 0.9064 - val_loss: 0.6527 - val_accuracy: 0.7783\n",
            "Epoch 69/200\n",
            "125/125 [==============================] - 10s 79ms/step - loss: 0.3153 - accuracy: 0.8940 - val_loss: 0.4943 - val_accuracy: 0.8535\n",
            "Epoch 70/200\n",
            "125/125 [==============================] - 10s 79ms/step - loss: 0.3110 - accuracy: 0.8956 - val_loss: 0.3503 - val_accuracy: 0.8799\n",
            "Epoch 71/200\n",
            "125/125 [==============================] - 10s 78ms/step - loss: 0.3251 - accuracy: 0.8924 - val_loss: 0.3127 - val_accuracy: 0.8994\n",
            "Epoch 72/200\n",
            "125/125 [==============================] - 10s 79ms/step - loss: 0.3634 - accuracy: 0.8815 - val_loss: 1.0342 - val_accuracy: 0.7549\n",
            "Epoch 73/200\n",
            "125/125 [==============================] - 10s 79ms/step - loss: 0.4473 - accuracy: 0.8506 - val_loss: 1.3353 - val_accuracy: 0.6436\n",
            "Epoch 74/200\n",
            "125/125 [==============================] - 10s 79ms/step - loss: 0.4199 - accuracy: 0.8765 - val_loss: 0.5055 - val_accuracy: 0.8516\n",
            "Epoch 75/200\n",
            "125/125 [==============================] - 10s 77ms/step - loss: 0.4749 - accuracy: 0.8465 - val_loss: 0.4784 - val_accuracy: 0.8457\n",
            "Epoch 76/200\n",
            "125/125 [==============================] - 10s 79ms/step - loss: 0.3454 - accuracy: 0.8860 - val_loss: 0.4099 - val_accuracy: 0.8730\n",
            "Epoch 77/200\n",
            "125/125 [==============================] - 10s 79ms/step - loss: 0.2888 - accuracy: 0.9024 - val_loss: 0.7218 - val_accuracy: 0.7764\n",
            "Epoch 78/200\n",
            "125/125 [==============================] - 10s 79ms/step - loss: 0.2900 - accuracy: 0.9006 - val_loss: 0.3922 - val_accuracy: 0.8740\n",
            "Epoch 79/200\n",
            "125/125 [==============================] - 10s 77ms/step - loss: 0.3664 - accuracy: 0.8821 - val_loss: 0.3393 - val_accuracy: 0.8867\n",
            "Epoch 80/200\n",
            "125/125 [==============================] - 10s 79ms/step - loss: 0.4277 - accuracy: 0.8604 - val_loss: 1.9082 - val_accuracy: 0.5703\n",
            "Epoch 81/200\n",
            "125/125 [==============================] - 10s 79ms/step - loss: 0.4129 - accuracy: 0.8591 - val_loss: 0.7553 - val_accuracy: 0.7480\n",
            "Epoch 82/200\n",
            "125/125 [==============================] - 10s 78ms/step - loss: 0.3294 - accuracy: 0.8926 - val_loss: 0.4993 - val_accuracy: 0.8311\n",
            "Epoch 83/200\n",
            "125/125 [==============================] - 10s 78ms/step - loss: 0.3347 - accuracy: 0.8871 - val_loss: 0.3029 - val_accuracy: 0.9033\n",
            "Epoch 84/200\n",
            "125/125 [==============================] - 10s 79ms/step - loss: 0.3647 - accuracy: 0.8786 - val_loss: 0.9761 - val_accuracy: 0.6602\n",
            "Epoch 85/200\n",
            "125/125 [==============================] - 10s 79ms/step - loss: 0.3607 - accuracy: 0.8775 - val_loss: 0.5289 - val_accuracy: 0.8252\n",
            "Epoch 86/200\n",
            "125/125 [==============================] - 10s 79ms/step - loss: 0.4151 - accuracy: 0.8590 - val_loss: 0.8965 - val_accuracy: 0.6963\n",
            "Epoch 87/200\n",
            "125/125 [==============================] - 10s 78ms/step - loss: 0.4041 - accuracy: 0.8691 - val_loss: 0.4315 - val_accuracy: 0.8564\n",
            "Epoch 88/200\n",
            "125/125 [==============================] - 10s 80ms/step - loss: 0.3725 - accuracy: 0.8723 - val_loss: 0.7486 - val_accuracy: 0.7715\n",
            "Epoch 89/200\n",
            "125/125 [==============================] - 10s 79ms/step - loss: 0.3579 - accuracy: 0.8781 - val_loss: 0.6986 - val_accuracy: 0.7637\n",
            "Epoch 90/200\n",
            "125/125 [==============================] - 10s 77ms/step - loss: 0.3151 - accuracy: 0.9004 - val_loss: 0.4349 - val_accuracy: 0.8623\n",
            "Epoch 91/200\n",
            "125/125 [==============================] - 10s 79ms/step - loss: 0.3130 - accuracy: 0.8934 - val_loss: 0.2903 - val_accuracy: 0.9043\n",
            "Epoch 92/200\n",
            "125/125 [==============================] - 10s 79ms/step - loss: 0.3277 - accuracy: 0.8916 - val_loss: 1.2702 - val_accuracy: 0.6309\n",
            "Epoch 93/200\n",
            "125/125 [==============================] - 10s 80ms/step - loss: 0.4044 - accuracy: 0.8555 - val_loss: 1.0330 - val_accuracy: 0.6787\n",
            "Epoch 94/200\n",
            "125/125 [==============================] - 10s 78ms/step - loss: 0.3598 - accuracy: 0.8789 - val_loss: 0.4481 - val_accuracy: 0.8574\n",
            "Epoch 95/200\n",
            "125/125 [==============================] - 10s 79ms/step - loss: 0.3422 - accuracy: 0.8950 - val_loss: 0.3279 - val_accuracy: 0.8975\n",
            "Epoch 96/200\n",
            "125/125 [==============================] - 10s 79ms/step - loss: 0.3251 - accuracy: 0.8904 - val_loss: 1.4500 - val_accuracy: 0.5947\n",
            "Epoch 97/200\n",
            "125/125 [==============================] - 10s 80ms/step - loss: 0.3731 - accuracy: 0.8796 - val_loss: 0.8276 - val_accuracy: 0.7236\n",
            "Epoch 98/200\n",
            "125/125 [==============================] - 10s 78ms/step - loss: 0.3836 - accuracy: 0.8724 - val_loss: 0.5016 - val_accuracy: 0.8398\n",
            "Epoch 99/200\n",
            "125/125 [==============================] - 10s 79ms/step - loss: 0.4084 - accuracy: 0.8643 - val_loss: 0.4447 - val_accuracy: 0.8594\n",
            "Epoch 100/200\n",
            "125/125 [==============================] - 10s 79ms/step - loss: 0.3528 - accuracy: 0.8839 - val_loss: 1.8287 - val_accuracy: 0.5449\n",
            "Epoch 101/200\n",
            "125/125 [==============================] - 10s 79ms/step - loss: 0.3540 - accuracy: 0.8805 - val_loss: 0.8477 - val_accuracy: 0.7402\n",
            "Epoch 102/200\n",
            "125/125 [==============================] - 10s 78ms/step - loss: 0.3531 - accuracy: 0.8790 - val_loss: 0.9759 - val_accuracy: 0.6777\n",
            "Epoch 103/200\n",
            "125/125 [==============================] - 10s 79ms/step - loss: 0.3284 - accuracy: 0.8923 - val_loss: 0.3937 - val_accuracy: 0.8701\n",
            "Epoch 104/200\n",
            "125/125 [==============================] - 10s 79ms/step - loss: 0.3287 - accuracy: 0.8885 - val_loss: 2.9294 - val_accuracy: 0.4209\n",
            "Epoch 105/200\n",
            "125/125 [==============================] - 10s 77ms/step - loss: 0.3911 - accuracy: 0.8620 - val_loss: 0.4609 - val_accuracy: 0.8457\n",
            "Epoch 106/200\n",
            "125/125 [==============================] - 10s 78ms/step - loss: 0.3881 - accuracy: 0.8730 - val_loss: 0.4855 - val_accuracy: 0.8281\n",
            "Epoch 107/200\n",
            "125/125 [==============================] - 10s 79ms/step - loss: 0.3788 - accuracy: 0.8716 - val_loss: 0.3495 - val_accuracy: 0.8857\n",
            "Epoch 108/200\n",
            "125/125 [==============================] - 10s 79ms/step - loss: 0.3845 - accuracy: 0.8684 - val_loss: 1.7045 - val_accuracy: 0.5322\n",
            "Epoch 109/200\n",
            "125/125 [==============================] - 10s 77ms/step - loss: 0.3902 - accuracy: 0.8646 - val_loss: 0.6439 - val_accuracy: 0.7646\n",
            "Epoch 110/200\n",
            "125/125 [==============================] - 10s 78ms/step - loss: 0.3706 - accuracy: 0.8735 - val_loss: 0.3710 - val_accuracy: 0.8779\n",
            "Epoch 111/200\n",
            "125/125 [==============================] - 10s 78ms/step - loss: 0.3905 - accuracy: 0.8679 - val_loss: 0.6415 - val_accuracy: 0.7773\n",
            "Epoch 112/200\n",
            "125/125 [==============================] - 10s 79ms/step - loss: 0.3814 - accuracy: 0.8689 - val_loss: 2.9996 - val_accuracy: 0.4658\n",
            "Epoch 113/200\n",
            "125/125 [==============================] - 10s 79ms/step - loss: 0.3953 - accuracy: 0.8710 - val_loss: 0.6595 - val_accuracy: 0.7715\n",
            "Epoch 114/200\n",
            "125/125 [==============================] - 10s 79ms/step - loss: 0.3473 - accuracy: 0.8824 - val_loss: 0.5332 - val_accuracy: 0.8135\n",
            "Epoch 115/200\n",
            "125/125 [==============================] - 10s 79ms/step - loss: 0.3067 - accuracy: 0.9015 - val_loss: 0.3903 - val_accuracy: 0.8643\n",
            "Epoch 116/200\n",
            "125/125 [==============================] - 10s 80ms/step - loss: 0.3066 - accuracy: 0.9004 - val_loss: 0.9792 - val_accuracy: 0.6533\n",
            "Epoch 117/200\n",
            "125/125 [==============================] - 10s 78ms/step - loss: 0.4022 - accuracy: 0.8611 - val_loss: 1.3129 - val_accuracy: 0.6152\n",
            "Epoch 118/200\n",
            "125/125 [==============================] - 10s 78ms/step - loss: 0.3745 - accuracy: 0.8715 - val_loss: 0.5731 - val_accuracy: 0.7920\n",
            "Epoch 119/200\n",
            "125/125 [==============================] - 10s 79ms/step - loss: 0.3454 - accuracy: 0.8856 - val_loss: 0.3794 - val_accuracy: 0.8760\n",
            "Epoch 120/200\n",
            "125/125 [==============================] - 10s 79ms/step - loss: 0.3295 - accuracy: 0.8873 - val_loss: 1.6862 - val_accuracy: 0.5273\n",
            "Epoch 121/200\n",
            "125/125 [==============================] - 10s 79ms/step - loss: 0.3226 - accuracy: 0.8911 - val_loss: 0.4811 - val_accuracy: 0.8223\n",
            "Epoch 122/200\n",
            "125/125 [==============================] - 10s 78ms/step - loss: 0.3575 - accuracy: 0.8789 - val_loss: 0.4709 - val_accuracy: 0.8398\n",
            "Epoch 123/200\n",
            "125/125 [==============================] - 10s 78ms/step - loss: 0.3787 - accuracy: 0.8694 - val_loss: 0.4209 - val_accuracy: 0.8496\n",
            "Epoch 124/200\n",
            "125/125 [==============================] - 10s 78ms/step - loss: 0.3377 - accuracy: 0.8885 - val_loss: 2.6047 - val_accuracy: 0.4609\n",
            "Epoch 125/200\n",
            "125/125 [==============================] - 10s 76ms/step - loss: 0.3636 - accuracy: 0.8839 - val_loss: 0.5157 - val_accuracy: 0.8018\n",
            "Epoch 126/200\n",
            "125/125 [==============================] - 10s 77ms/step - loss: 0.3267 - accuracy: 0.8905 - val_loss: 0.4687 - val_accuracy: 0.8447\n",
            "Epoch 127/200\n",
            "125/125 [==============================] - 10s 78ms/step - loss: 0.3229 - accuracy: 0.8955 - val_loss: 0.3718 - val_accuracy: 0.8721\n",
            "Epoch 128/200\n",
            "125/125 [==============================] - 10s 78ms/step - loss: 0.3312 - accuracy: 0.8955 - val_loss: 2.2098 - val_accuracy: 0.5469\n",
            "Epoch 129/200\n",
            "125/125 [==============================] - 10s 76ms/step - loss: 0.3358 - accuracy: 0.8903 - val_loss: 0.6605 - val_accuracy: 0.7637\n",
            "Epoch 130/200\n",
            "125/125 [==============================] - 10s 78ms/step - loss: 0.3605 - accuracy: 0.8737 - val_loss: 0.6044 - val_accuracy: 0.7939\n",
            "Epoch 131/200\n",
            "125/125 [==============================] - 10s 78ms/step - loss: 0.3275 - accuracy: 0.8895 - val_loss: 0.3058 - val_accuracy: 0.8936\n",
            "Epoch 132/200\n",
            "125/125 [==============================] - 10s 79ms/step - loss: 0.2849 - accuracy: 0.9106 - val_loss: 0.5702 - val_accuracy: 0.7910\n",
            "Epoch 133/200\n",
            "125/125 [==============================] - 10s 77ms/step - loss: 0.3171 - accuracy: 0.8994 - val_loss: 0.6083 - val_accuracy: 0.7764\n",
            "Epoch 134/200\n",
            "125/125 [==============================] - 10s 78ms/step - loss: 0.3217 - accuracy: 0.8961 - val_loss: 0.5141 - val_accuracy: 0.8086\n",
            "Epoch 135/200\n",
            "125/125 [==============================] - 10s 78ms/step - loss: 0.2949 - accuracy: 0.9059 - val_loss: 0.3141 - val_accuracy: 0.8984\n",
            "Epoch 136/200\n",
            "125/125 [==============================] - 10s 79ms/step - loss: 0.2999 - accuracy: 0.9044 - val_loss: 2.9740 - val_accuracy: 0.3896\n",
            "Epoch 137/200\n",
            "125/125 [==============================] - 10s 77ms/step - loss: 0.3571 - accuracy: 0.8788 - val_loss: 1.5264 - val_accuracy: 0.5537\n",
            "Epoch 138/200\n",
            "125/125 [==============================] - 10s 78ms/step - loss: 0.3112 - accuracy: 0.9051 - val_loss: 0.3691 - val_accuracy: 0.8711\n",
            "Epoch 139/200\n",
            "125/125 [==============================] - 10s 77ms/step - loss: 0.3048 - accuracy: 0.9026 - val_loss: 0.4341 - val_accuracy: 0.8438\n",
            "Epoch 140/200\n",
            "125/125 [==============================] - 10s 77ms/step - loss: 0.3016 - accuracy: 0.9021 - val_loss: 1.0289 - val_accuracy: 0.7422\n",
            "Epoch 141/200\n",
            "125/125 [==============================] - 10s 77ms/step - loss: 0.3162 - accuracy: 0.8978 - val_loss: 0.7659 - val_accuracy: 0.7549\n",
            "Epoch 142/200\n",
            "125/125 [==============================] - 10s 78ms/step - loss: 0.2916 - accuracy: 0.9095 - val_loss: 0.3495 - val_accuracy: 0.8887\n",
            "Epoch 143/200\n",
            "125/125 [==============================] - 10s 78ms/step - loss: 0.2914 - accuracy: 0.9096 - val_loss: 0.4044 - val_accuracy: 0.8594\n",
            "Epoch 144/200\n",
            "125/125 [==============================] - 10s 77ms/step - loss: 0.2885 - accuracy: 0.9114 - val_loss: 0.7490 - val_accuracy: 0.7441\n",
            "Epoch 145/200\n",
            "125/125 [==============================] - 10s 77ms/step - loss: 0.3103 - accuracy: 0.9024 - val_loss: 0.6145 - val_accuracy: 0.7969\n",
            "Epoch 146/200\n",
            "125/125 [==============================] - 10s 78ms/step - loss: 0.2918 - accuracy: 0.9106 - val_loss: 0.2549 - val_accuracy: 0.9141\n",
            "Epoch 147/200\n",
            "125/125 [==============================] - 10s 78ms/step - loss: 0.3041 - accuracy: 0.9018 - val_loss: 0.3411 - val_accuracy: 0.8779\n",
            "Epoch 148/200\n",
            "125/125 [==============================] - 10s 79ms/step - loss: 0.2882 - accuracy: 0.9115 - val_loss: 1.4664 - val_accuracy: 0.5752\n",
            "Epoch 149/200\n",
            "125/125 [==============================] - 10s 77ms/step - loss: 0.2874 - accuracy: 0.9164 - val_loss: 0.5988 - val_accuracy: 0.7822\n",
            "Epoch 150/200\n",
            "125/125 [==============================] - 10s 78ms/step - loss: 0.2913 - accuracy: 0.9149 - val_loss: 0.4843 - val_accuracy: 0.8252\n",
            "Epoch 151/200\n",
            "125/125 [==============================] - 10s 78ms/step - loss: 0.2693 - accuracy: 0.9226 - val_loss: 0.2149 - val_accuracy: 0.9395\n",
            "Epoch 152/200\n",
            "125/125 [==============================] - 10s 79ms/step - loss: 0.2594 - accuracy: 0.9251 - val_loss: 0.4081 - val_accuracy: 0.8584\n",
            "Epoch 153/200\n",
            "125/125 [==============================] - 10s 78ms/step - loss: 0.2746 - accuracy: 0.9176 - val_loss: 0.4323 - val_accuracy: 0.8545\n",
            "Epoch 154/200\n",
            "125/125 [==============================] - 10s 79ms/step - loss: 0.2622 - accuracy: 0.9264 - val_loss: 0.2170 - val_accuracy: 0.9346\n",
            "Epoch 155/200\n",
            "125/125 [==============================] - 10s 79ms/step - loss: 0.2712 - accuracy: 0.9206 - val_loss: 0.3078 - val_accuracy: 0.8965\n",
            "Epoch 156/200\n",
            "125/125 [==============================] - 10s 79ms/step - loss: 0.2905 - accuracy: 0.9137 - val_loss: 0.9745 - val_accuracy: 0.6738\n",
            "Epoch 157/200\n",
            "125/125 [==============================] - 10s 79ms/step - loss: 0.3278 - accuracy: 0.8959 - val_loss: 0.5648 - val_accuracy: 0.8057\n",
            "Epoch 158/200\n",
            "125/125 [==============================] - 10s 81ms/step - loss: 0.2889 - accuracy: 0.9189 - val_loss: 0.3582 - val_accuracy: 0.8691\n",
            "Epoch 159/200\n",
            "125/125 [==============================] - 10s 79ms/step - loss: 0.2746 - accuracy: 0.9241 - val_loss: 0.2577 - val_accuracy: 0.9248\n",
            "Epoch 160/200\n",
            "125/125 [==============================] - 10s 78ms/step - loss: 0.2680 - accuracy: 0.9259 - val_loss: 0.8024 - val_accuracy: 0.7354\n",
            "Epoch 161/200\n",
            "125/125 [==============================] - 10s 78ms/step - loss: 0.2813 - accuracy: 0.9202 - val_loss: 0.3703 - val_accuracy: 0.8809\n",
            "Epoch 162/200\n",
            "125/125 [==============================] - 10s 78ms/step - loss: 0.2678 - accuracy: 0.9291 - val_loss: 0.2472 - val_accuracy: 0.9209\n",
            "Epoch 163/200\n",
            "125/125 [==============================] - 10s 79ms/step - loss: 0.2526 - accuracy: 0.9331 - val_loss: 0.2547 - val_accuracy: 0.9219\n",
            "Epoch 164/200\n",
            "125/125 [==============================] - 10s 79ms/step - loss: 0.2576 - accuracy: 0.9326 - val_loss: 0.6624 - val_accuracy: 0.7812\n",
            "Epoch 165/200\n",
            "125/125 [==============================] - 10s 78ms/step - loss: 0.2535 - accuracy: 0.9335 - val_loss: 0.3004 - val_accuracy: 0.9014\n",
            "Epoch 166/200\n",
            "125/125 [==============================] - 10s 79ms/step - loss: 0.2520 - accuracy: 0.9360 - val_loss: 0.3222 - val_accuracy: 0.9004\n",
            "Epoch 167/200\n",
            "125/125 [==============================] - 10s 80ms/step - loss: 0.2531 - accuracy: 0.9356 - val_loss: 0.2168 - val_accuracy: 0.9346\n",
            "Epoch 168/200\n",
            "125/125 [==============================] - 10s 77ms/step - loss: 0.2525 - accuracy: 0.9321 - val_loss: 0.5979 - val_accuracy: 0.7949\n",
            "Epoch 169/200\n",
            "125/125 [==============================] - 10s 79ms/step - loss: 0.2505 - accuracy: 0.9345 - val_loss: 0.2207 - val_accuracy: 0.9336\n",
            "Epoch 170/200\n",
            "125/125 [==============================] - 10s 79ms/step - loss: 0.2462 - accuracy: 0.9367 - val_loss: 0.2415 - val_accuracy: 0.9238\n",
            "Epoch 171/200\n",
            "125/125 [==============================] - 10s 80ms/step - loss: 0.2632 - accuracy: 0.9317 - val_loss: 0.3567 - val_accuracy: 0.8770\n",
            "Epoch 172/200\n",
            "125/125 [==============================] - 10s 78ms/step - loss: 0.2561 - accuracy: 0.9385 - val_loss: 0.2762 - val_accuracy: 0.9121\n",
            "Epoch 173/200\n",
            "125/125 [==============================] - 10s 79ms/step - loss: 0.2480 - accuracy: 0.9381 - val_loss: 0.3032 - val_accuracy: 0.9033\n",
            "Epoch 174/200\n",
            "125/125 [==============================] - 10s 79ms/step - loss: 0.2369 - accuracy: 0.9440 - val_loss: 0.2391 - val_accuracy: 0.9219\n",
            "Epoch 175/200\n",
            "125/125 [==============================] - 10s 78ms/step - loss: 0.2357 - accuracy: 0.9421 - val_loss: 0.1918 - val_accuracy: 0.9414\n",
            "Epoch 176/200\n",
            "125/125 [==============================] - 10s 78ms/step - loss: 0.2370 - accuracy: 0.9433 - val_loss: 0.2652 - val_accuracy: 0.9189\n",
            "Epoch 177/200\n",
            "125/125 [==============================] - 10s 79ms/step - loss: 0.2310 - accuracy: 0.9457 - val_loss: 0.2772 - val_accuracy: 0.9131\n",
            "Epoch 178/200\n",
            "125/125 [==============================] - 10s 79ms/step - loss: 0.2275 - accuracy: 0.9444 - val_loss: 0.1869 - val_accuracy: 0.9502\n",
            "Epoch 179/200\n",
            "125/125 [==============================] - 10s 79ms/step - loss: 0.2224 - accuracy: 0.9463 - val_loss: 0.1821 - val_accuracy: 0.9453\n",
            "Epoch 180/200\n",
            "125/125 [==============================] - 10s 79ms/step - loss: 0.2175 - accuracy: 0.9501 - val_loss: 0.2708 - val_accuracy: 0.9111\n",
            "Epoch 181/200\n",
            "125/125 [==============================] - 10s 79ms/step - loss: 0.2147 - accuracy: 0.9515 - val_loss: 0.1937 - val_accuracy: 0.9424\n",
            "Epoch 182/200\n",
            "125/125 [==============================] - 10s 80ms/step - loss: 0.2070 - accuracy: 0.9521 - val_loss: 0.1816 - val_accuracy: 0.9443\n",
            "Epoch 183/200\n",
            "125/125 [==============================] - 10s 77ms/step - loss: 0.2044 - accuracy: 0.9530 - val_loss: 0.1592 - val_accuracy: 0.9561\n",
            "Epoch 184/200\n",
            "125/125 [==============================] - 10s 79ms/step - loss: 0.1981 - accuracy: 0.9529 - val_loss: 0.1837 - val_accuracy: 0.9424\n",
            "Epoch 185/200\n",
            "125/125 [==============================] - 10s 79ms/step - loss: 0.1925 - accuracy: 0.9566 - val_loss: 0.1576 - val_accuracy: 0.9551\n",
            "Epoch 186/200\n",
            "125/125 [==============================] - 10s 79ms/step - loss: 0.1892 - accuracy: 0.9578 - val_loss: 0.1593 - val_accuracy: 0.9531\n",
            "Epoch 187/200\n",
            "125/125 [==============================] - 10s 78ms/step - loss: 0.1914 - accuracy: 0.9559 - val_loss: 0.1658 - val_accuracy: 0.9521\n",
            "Epoch 188/200\n",
            "125/125 [==============================] - 10s 79ms/step - loss: 0.1856 - accuracy: 0.9575 - val_loss: 0.1602 - val_accuracy: 0.9551\n",
            "Epoch 189/200\n",
            "125/125 [==============================] - 10s 78ms/step - loss: 0.1818 - accuracy: 0.9589 - val_loss: 0.1549 - val_accuracy: 0.9521\n",
            "Epoch 190/200\n",
            "125/125 [==============================] - 10s 77ms/step - loss: 0.1757 - accuracy: 0.9578 - val_loss: 0.1500 - val_accuracy: 0.9570\n",
            "Epoch 191/200\n",
            "125/125 [==============================] - 10s 77ms/step - loss: 0.1738 - accuracy: 0.9589 - val_loss: 0.1484 - val_accuracy: 0.9551\n",
            "Epoch 192/200\n",
            "125/125 [==============================] - 10s 79ms/step - loss: 0.1751 - accuracy: 0.9559 - val_loss: 0.1467 - val_accuracy: 0.9580\n",
            "Epoch 193/200\n",
            "125/125 [==============================] - 10s 79ms/step - loss: 0.1705 - accuracy: 0.9621 - val_loss: 0.1461 - val_accuracy: 0.9580\n",
            "Epoch 194/200\n",
            "125/125 [==============================] - 10s 78ms/step - loss: 0.1673 - accuracy: 0.9600 - val_loss: 0.1453 - val_accuracy: 0.9561\n",
            "Epoch 195/200\n",
            "125/125 [==============================] - 10s 78ms/step - loss: 0.1610 - accuracy: 0.9629 - val_loss: 0.1442 - val_accuracy: 0.9570\n",
            "Epoch 196/200\n",
            "125/125 [==============================] - 10s 79ms/step - loss: 0.1537 - accuracy: 0.9657 - val_loss: 0.1429 - val_accuracy: 0.9570\n",
            "Epoch 197/200\n",
            "125/125 [==============================] - 10s 79ms/step - loss: 0.1537 - accuracy: 0.9635 - val_loss: 0.1420 - val_accuracy: 0.9551\n",
            "Epoch 198/200\n",
            "125/125 [==============================] - 10s 76ms/step - loss: 0.1543 - accuracy: 0.9651 - val_loss: 0.1393 - val_accuracy: 0.9570\n",
            "Epoch 199/200\n",
            "125/125 [==============================] - 10s 78ms/step - loss: 0.1477 - accuracy: 0.9661 - val_loss: 0.1395 - val_accuracy: 0.9561\n",
            "Epoch 200/200\n",
            "125/125 [==============================] - 10s 78ms/step - loss: 0.1493 - accuracy: 0.9651 - val_loss: 0.1377 - val_accuracy: 0.9580\n"
          ]
        }
      ]
    },
    {
      "cell_type": "code",
      "source": [],
      "metadata": {
        "id": "tU-srxdcpmLc"
      },
      "execution_count": 43,
      "outputs": []
    },
    {
      "cell_type": "code",
      "source": [],
      "metadata": {
        "id": "rhA9kA6tppbS"
      },
      "execution_count": 27,
      "outputs": []
    },
    {
      "cell_type": "code",
      "source": [
        "def plot_curves(his):\n",
        "\n",
        "    loss = his.history['loss']\n",
        "    val_loss = his.history['val_loss']\n",
        "\n",
        "    accuracy = his.history['accuracy']\n",
        "    val_accuracy = his.history['val_accuracy']\n",
        "\n",
        "    epochs = range(len(his.history['loss']))\n",
        "\n",
        "    # ploting the loss\n",
        "    plt.plot(epochs, loss, 'r', label='Training loss')\n",
        "    plt.plot(epochs, val_loss, 'b', label='Validation loss')\n",
        "    plt.title('Training and validation loss')\n",
        "    plt.xlabel('Epochs')\n",
        "    plt.ylabel('Loss')\n",
        "    plt.legend()\n",
        "    plt.figure()\n",
        "\n",
        "    # ploting the accuracy\n",
        "    plt.plot(epochs, accuracy, 'r', label='Training accuracy')\n",
        "    plt.plot(epochs, val_accuracy, 'b', label='Validation accuracy')\n",
        "    plt.title('Training and validation accuracy')\n",
        "    plt.xlabel('Epochs')\n",
        "    plt.ylabel('Accuracy')\n",
        "    plt.legend()\n",
        "    plt.figure()"
      ],
      "metadata": {
        "id": "cplAUsWQppLq"
      },
      "execution_count": 44,
      "outputs": []
    },
    {
      "cell_type": "code",
      "source": [
        "plot_curves(history)"
      ],
      "metadata": {
        "id": "AVVYWoTGps1_",
        "colab": {
          "base_uri": "https://localhost:8080/",
          "height": 944
        },
        "outputId": "481e9f84-0078-4b7a-b731-ab6438a2c516"
      },
      "execution_count": 29,
      "outputs": [
        {
          "output_type": "display_data",
          "data": {
            "text/plain": [
              "<Figure size 640x480 with 1 Axes>"
            ],
            "image/png": "[encoded data removed]"
          },
          "metadata": {}
        },
        {
          "output_type": "display_data",
          "data": {
            "text/plain": [
              "<Figure size 640x480 with 1 Axes>"
            ],
            "image/png": "[encoded data removed]"
          },
          "metadata": {}
        },
        {
          "output_type": "display_data",
          "data": {
            "text/plain": [
              "<Figure size 640x480 with 0 Axes>"
            ]
          },
          "metadata": {}
        }
      ]
    },
    {
      "cell_type": "code",
      "source": [],
      "metadata": {
        "id": "7gYKrjV7pvF1"
      },
      "execution_count": 29,
      "outputs": []
    },
    {
      "cell_type": "code",
      "source": [
        "def print_model_weights_sparsity(model):\n",
        "    for layer in model.layers:\n",
        "        if isinstance(layer, keras.layers.Wrapper):\n",
        "            weights = layer.trainable_weights\n",
        "        else:\n",
        "            weights = layer.weights\n",
        "        for weight in weights:\n",
        "            if \"kernel\" not in weight.name or \"centroid\" in weight.name:\n",
        "                continue\n",
        "            weight_size = weight.numpy().size\n",
        "            zero_num = np.count_nonzero(weight == 0)\n",
        "            print(\n",
        "                f\"{weight.name}: {zero_num/weight_size:.2%} sparsity \",\n",
        "                f\"({zero_num}/{weight_size})\",\n",
        "            )"
      ],
      "metadata": {
        "id": "lI2UOkCj11jW"
      },
      "execution_count": 30,
      "outputs": []
    },
    {
      "cell_type": "code",
      "source": [
        "pruned_model = tfmot.sparsity.keras.strip_pruning(pruned_AlexNet)\n",
        "print_model_weights_sparsity(pruned_model)"
      ],
      "metadata": {
        "id": "p8le15J516Or",
        "colab": {
          "base_uri": "https://localhost:8080/"
        },
        "outputId": "485f3d25-e03d-455d-bbca-3ae131ec27c7"
      },
      "execution_count": 31,
      "outputs": [
        {
          "output_type": "stream",
          "name": "stdout",
          "text": [
            "conv2d_5/kernel:0: 98.00% sparsity  (34151/34848)\n",
            "conv2d_6/kernel:0: 98.00% sparsity  (602112/614400)\n",
            "conv2d_7/kernel:0: 98.00% sparsity  (867041/884736)\n",
            "conv2d_8/kernel:0: 98.00% sparsity  (1300562/1327104)\n",
            "conv2d_9/kernel:0: 98.00% sparsity  (867041/884736)\n",
            "dense_3/kernel:0: 99.00% sparsity  (25952256/26214400)\n",
            "dense_4/kernel:0: 99.00% sparsity  (16609444/16777216)\n",
            "dense_5/kernel:0: 99.00% sparsity  (40550/40960)\n"
          ]
        }
      ]
    },
    {
      "cell_type": "code",
      "source": [
        "print_model_weights_sparsity(AlexNet)"
      ],
      "metadata": {
        "id": "mB35nzEo3Dqc",
        "colab": {
          "base_uri": "https://localhost:8080/"
        },
        "outputId": "52f7fa8b-007e-4cd3-ada9-9b167de3e7b4"
      },
      "execution_count": 32,
      "outputs": [
        {
          "output_type": "stream",
          "name": "stdout",
          "text": [
            "conv2d_5/kernel:0: 98.00% sparsity  (34151/34848)\n",
            "conv2d_6/kernel:0: 98.00% sparsity  (602112/614400)\n",
            "conv2d_7/kernel:0: 98.00% sparsity  (867041/884736)\n",
            "conv2d_8/kernel:0: 98.00% sparsity  (1300562/1327104)\n",
            "conv2d_9/kernel:0: 98.00% sparsity  (867041/884736)\n",
            "dense_3/kernel:0: 99.00% sparsity  (25952256/26214400)\n",
            "dense_4/kernel:0: 99.00% sparsity  (16609444/16777216)\n",
            "dense_5/kernel:0: 99.00% sparsity  (40550/40960)\n"
          ]
        }
      ]
    },
    {
      "cell_type": "code",
      "source": [],
      "metadata": {
        "id": "QKqwyfhF3EJ-"
      },
      "execution_count": 32,
      "outputs": []
    },
    {
      "cell_type": "code",
      "source": [
        "test_ds = tf.keras.utils.image_dataset_from_directory(\n",
        "    data_dir + \"Test\",\n",
        "    seed=693,\n",
        "    image_size=(img_height, img_width),\n",
        "    batch_size=batch_size,\n",
        "    shuffle=True,\n",
        ")"
      ],
      "metadata": {
        "id": "Q5t984V93Eq8",
        "colab": {
          "base_uri": "https://localhost:8080/"
        },
        "outputId": "12a9bd1e-3e13-4e7a-fa28-7fe0797a49c7"
      },
      "execution_count": 33,
      "outputs": [
        {
          "output_type": "stream",
          "name": "stdout",
          "text": [
            "Found 3198 files belonging to 10 classes.\n"
          ]
        }
      ]
    },
    {
      "cell_type": "code",
      "source": [
        "class_names = test_ds.class_names\n",
        "class_names"
      ],
      "metadata": {
        "id": "foYmjyIn3OQ0",
        "colab": {
          "base_uri": "https://localhost:8080/"
        },
        "outputId": "7df17391-86e0-46c4-dffc-791bc380f539"
      },
      "execution_count": 34,
      "outputs": [
        {
          "output_type": "execute_result",
          "data": {
            "text/plain": [
              "['Bacterial_spot',\n",
              " 'Early_blight',\n",
              " 'Late_blight',\n",
              " 'Leaf_Mold',\n",
              " 'Septoria_leaf_spot',\n",
              " 'Spider_mite_Two_spotted_sm',\n",
              " 'Target_Spot',\n",
              " 'Yellow_Leaf__Curl_Virus',\n",
              " 'healthy',\n",
              " 'mosaic_virus']"
            ]
          },
          "metadata": {},
          "execution_count": 34
        }
      ]
    },
    {
      "cell_type": "code",
      "source": [
        "test_ds = test_ds.take(16)"
      ],
      "metadata": {
        "id": "Rdy76DCV3QyN"
      },
      "execution_count": 35,
      "outputs": []
    },
    {
      "cell_type": "code",
      "source": [
        "AUTOTUNE = tf.data.AUTOTUNE\n",
        "\n",
        "test_nds = test_ds.cache().prefetch(buffer_size=AUTOTUNE)"
      ],
      "metadata": {
        "id": "3mkFwzda3TKU"
      },
      "execution_count": 36,
      "outputs": []
    },
    {
      "cell_type": "code",
      "source": [
        "pruned_model.compile(\n",
        "  loss=keras.losses.SparseCategoricalCrossentropy(from_logits=True),\n",
        "  optimizer=keras.optimizers.Adam(learning_rate=1e-5),\n",
        "  metrics=['accuracy']\n",
        ")"
      ],
      "metadata": {
        "id": "sGNqJ2ic53E8"
      },
      "execution_count": 37,
      "outputs": []
    },
    {
      "cell_type": "code",
      "source": [
        "loss, acc = pruned_model.evaluate(test_nds)\n",
        "print(\"Accuracy\", acc)\n",
        "print(\"Loss\", loss)"
      ],
      "metadata": {
        "id": "_D-fBIsT3Xrq",
        "colab": {
          "base_uri": "https://localhost:8080/"
        },
        "outputId": "f2b33def-8946-47fa-bdcc-c87c362b9bda"
      },
      "execution_count": 38,
      "outputs": [
        {
          "output_type": "stream",
          "name": "stdout",
          "text": [
            "16/16 [==============================] - 478s 19s/step - loss: 0.1388 - accuracy: 0.9561\n",
            "Accuracy 0.9560546875\n",
            "Loss 0.1387643665075302\n"
          ]
        }
      ]
    },
    {
      "cell_type": "code",
      "source": [],
      "metadata": {
        "id": "8HwgY8Xm6Yjh"
      },
      "execution_count": null,
      "outputs": []
    },
    {
      "cell_type": "code",
      "source": [
        "model = \"drive/MyDrive/New Folder/TinyML/SaveModels/pruned_AlexNet0.h5\"\n",
        "keras.models.save_model(pruned_model, model, include_optimizer=False)\n"
      ],
      "metadata": {
        "id": "w5tki_cY3Z4h"
      },
      "execution_count": null,
      "outputs": []
    },
    {
      "cell_type": "markdown",
      "source": [],
      "metadata": {
        "id": "vq2r7fRG76cO"
      }
    },
    {
      "cell_type": "code",
      "source": [
        "# Get predictions\n",
        "y_pred = AlexNet.predict(test_nds)\n",
        "y_pred = np.argmax(y_pred, axis=1)\n",
        "\n",
        "# Get true labels\n",
        "y_true = np.concatenate([y for x, y in test_nds], axis=0)\n",
        "\n",
        "# Compute confusion matrix\n",
        "cm = tf.math.confusion_matrix(y_true, y_pred)"
      ],
      "metadata": {
        "id": "v-VDPWdi7mi8"
      },
      "execution_count": null,
      "outputs": []
    },
    {
      "cell_type": "code",
      "source": [
        "cm"
      ],
      "metadata": {
        "id": "cG8KXnAn77LG"
      },
      "execution_count": null,
      "outputs": []
    },
    {
      "cell_type": "code",
      "source": [
        "ConfusionMatrixDisplay.from_predictions(\n",
        "    y_true, y_pred, display_labels=class_names, xticks_rotation='vertical'\n",
        ")"
      ],
      "metadata": {
        "id": "mgKGlaYS79e7"
      },
      "execution_count": null,
      "outputs": []
    },
    {
      "cell_type": "markdown",
      "source": [],
      "metadata": {
        "id": "GqrC0vht8CHC"
      }
    },
    {
      "cell_type": "code",
      "source": [
        "precision = precision_score(y_true, y_pred, average='macro')\n",
        "recall = recall_score(y_true, y_pred, average='macro')\n",
        "f1 = f1_score(y_true, y_pred, average='macro')\n",
        "\n",
        "print(f\"Precision: {precision}\")\n",
        "print(f\"Recall: {recall}\")\n",
        "print(f\"F1 Score: {f1}\")\n",
        "print(\"Accuracy\", acc)\n",
        "print(\"Loss\", loss)"
      ],
      "metadata": {
        "id": "gOY8XIyD8J5x",
        "colab": {
          "base_uri": "https://localhost:8080/"
        },
        "outputId": "319a2057-6e0b-4e28-ade4-4a40d0b261ae"
      },
      "execution_count": 45,
      "outputs": [
        {
          "output_type": "stream",
          "name": "stdout",
          "text": [
            "Precision: 0.9467490866566616\n",
            "Recall: 0.9432972588585663\n",
            "F1 Score: 0.9443975161926526\n",
            "Accuracy 0.9560546875\n",
            "Loss 0.1387643665075302\n"
          ]
        }
      ]
    },
    {
      "cell_type": "markdown",
      "source": [],
      "metadata": {
        "id": "tdfBkgn98KXT"
      }
    }
  ]
}